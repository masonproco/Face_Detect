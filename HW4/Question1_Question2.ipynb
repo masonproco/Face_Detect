{
  "nbformat": 4,
  "nbformat_minor": 0,
  "metadata": {
    "colab": {
      "name": "Question1_Question2.ipynb",
      "provenance": [],
      "collapsed_sections": [],
      "authorship_tag": "ABX9TyN5A/jvsZ2U8ROJOY1ytHfJ",
      "include_colab_link": true
    },
    "kernelspec": {
      "name": "python3",
      "display_name": "Python 3"
    }
  },
  "cells": [
    {
      "cell_type": "markdown",
      "metadata": {
        "id": "view-in-github",
        "colab_type": "text"
      },
      "source": [
        "<a href=\"https://colab.research.google.com/github/masonproco/Face_Detect/blob/master/HW4/Question1_Question2.ipynb\" target=\"_parent\"><img src=\"https://colab.research.google.com/assets/colab-badge.svg\" alt=\"Open In Colab\"/></a>"
      ]
    },
    {
      "cell_type": "markdown",
      "metadata": {
        "id": "wxZIxxE5NpTV",
        "colab_type": "text"
      },
      "source": [
        "#Question 1\n",
        "\n"
      ]
    },
    {
      "cell_type": "markdown",
      "metadata": {
        "id": "o0jTrGsHXh2L",
        "colab_type": "text"
      },
      "source": [
        "My answer assumes you're passing in lists, like how it was done in the posted test cases, and it only performs the operation on the first value.\n",
        "\n",
        "I believe the professor said something about the depth being only 1 in one of his announcements as well.\n",
        "\n",
        "Source: https://stackoverflow.com/questions/43086557/convolve2d-just-by-using-numpy"
      ]
    },
    {
      "cell_type": "code",
      "metadata": {
        "id": "b-f8sxOtNm3q",
        "colab_type": "code",
        "outputId": "70ebe578-1fff-4b12-fdf6-70f2b0dfde4c",
        "colab": {
          "base_uri": "https://localhost:8080/",
          "height": 51
        }
      },
      "source": [
        "import numpy as np\n",
        "\n",
        "def conv2d(input_mat, kernel_mat):\n",
        "\n",
        "  inp = input_mat[0]\n",
        "  kern = kernel_mat[0]\n",
        "\n",
        "  filter_shape = tuple(np.subtract(inp.shape, kern.shape) + 1)\n",
        "\n",
        "  strides = inp.strides + inp.strides\n",
        "\n",
        "  sub_matrices = np.lib.stride_tricks.as_strided(inp, kern.shape + filter_shape, strides)\n",
        "\n",
        "  m = np.einsum('ij,ijkl->kl', kern ,sub_matrices)\n",
        "\n",
        "  return m\n"
      ],
      "execution_count": 0,
      "outputs": [
        {
          "output_type": "stream",
          "text": [
            "M is:\n",
            "[[4]]\n"
          ],
          "name": "stdout"
        }
      ]
    },
    {
      "cell_type": "markdown",
      "metadata": {
        "id": "jWwYhfBVXrdw",
        "colab_type": "text"
      },
      "source": [
        "#Question 2\n",
        "The same applies for question 1 as above. It assumes you're passing in a list and performs the operation on the matrix in the first position.\n",
        "\n",
        "If the matrix is not a square matrix, the matrix is padded with 0's so the operation can commence.\n",
        "\n",
        "Source: https://stackoverflow.com/questions/54962004/implement-max-mean-poolingwith-stride-with-numpy"
      ]
    },
    {
      "cell_type": "code",
      "metadata": {
        "id": "usHAp5VhNopU",
        "colab_type": "code",
        "outputId": "d83e11b8-35d6-4cc0-b1d1-f156bcfecc06",
        "colab": {
          "base_uri": "https://localhost:8080/",
          "height": 68
        }
      },
      "source": [
        "import numpy as np\n",
        "\n",
        "def maxpooling2d(input_mat, s):\n",
        "  mat = input_mat[0]\n",
        "\n",
        "  if (mat.shape[0] != mat.shape[1]):\n",
        "  \n",
        "      if (mat.shape[0] > mat.shape[1]):\n",
        "        while (mat.shape[1] != mat.shape[0]):\n",
        "\n",
        "          z = np.zeros((math.shape[0]), 1)\n",
        "          mat = np.append(mat, z, 1)\n",
        "\n",
        "      else:\n",
        "        while(mat.shape[0] != mat.shape[1]):\n",
        "          z = np.zeros((1, mat.shape[1]))\n",
        "\n",
        "          mat = np.append(mat, z, 0)\n",
        "  \n",
        "  out_shape = ((mat.shape[0] - s)//2 + 1, (mat.shape[1] - s)//2 + 1)\n",
        "\n",
        "  s_size = (s, s)\n",
        "\n",
        "  Mat_w = np.lib.stride_tricks.as_strided(mat, shape = out_shape + s_size, strides = (2*mat.strides[0], 2*mat.strides[1]) + mat.strides)\n",
        "  # print(Mat_w)\n",
        "  Mat_w = Mat_w.reshape(-1, *s_size)\n",
        "\n",
        "  return Mat_w.max(axis=(1,2)).reshape(out_shape)\n"
      ],
      "execution_count": 0,
      "outputs": [
        {
          "output_type": "stream",
          "text": [
            "[[4. 2. 5.]\n",
            " [2. 4. 5.]\n",
            " [1. 3. 2.]]\n"
          ],
          "name": "stdout"
        }
      ]
    }
  ]
}